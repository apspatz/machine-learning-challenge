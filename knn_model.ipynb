{
 "cells": [
  {
   "cell_type": "code",
   "execution_count": 1,
   "metadata": {},
   "outputs": [
    {
     "name": "stdout",
     "output_type": "stream",
     "text": [
      "Requirement already up-to-date: sklearn in c:\\users\\andy\\anaconda3\\envs\\pythondata\\lib\\site-packages (0.0)\n",
      "Requirement already satisfied, skipping upgrade: scikit-learn in c:\\users\\andy\\anaconda3\\envs\\pythondata\\lib\\site-packages (from sklearn) (0.22.1)\n",
      "Requirement already satisfied, skipping upgrade: scipy>=0.17.0 in c:\\users\\andy\\anaconda3\\envs\\pythondata\\lib\\site-packages (from scikit-learn->sklearn) (1.4.1)\n",
      "Requirement already satisfied, skipping upgrade: numpy>=1.11.0 in c:\\users\\andy\\anaconda3\\envs\\pythondata\\lib\\site-packages (from scikit-learn->sklearn) (1.17.4)\n",
      "Requirement already satisfied, skipping upgrade: joblib>=0.11 in c:\\users\\andy\\anaconda3\\envs\\pythondata\\lib\\site-packages (from scikit-learn->sklearn) (0.14.1)\n"
     ]
    }
   ],
   "source": [
    "# Update sklearn to prevent version mismatches\n",
    "!pip install sklearn --upgrade"
   ]
  },
  {
   "cell_type": "code",
   "execution_count": 2,
   "metadata": {},
   "outputs": [
    {
     "name": "stdout",
     "output_type": "stream",
     "text": [
      "Requirement already satisfied: joblib in c:\\users\\andy\\anaconda3\\envs\\pythondata\\lib\\site-packages (0.14.1)\n"
     ]
    }
   ],
   "source": [
    "# install joblib. This will be used to save your model. \n",
    "# Restart your kernel after installing \n",
    "!pip install joblib"
   ]
  },
  {
   "cell_type": "code",
   "execution_count": 3,
   "metadata": {},
   "outputs": [],
   "source": [
    "import pandas as pd"
   ]
  },
  {
   "cell_type": "markdown",
   "metadata": {},
   "source": [
    "# Read the CSV and Perform Basic Data Cleaning"
   ]
  },
  {
   "cell_type": "code",
   "execution_count": 4,
   "metadata": {},
   "outputs": [
    {
     "data": {
      "text/html": [
       "<div>\n",
       "<style scoped>\n",
       "    .dataframe tbody tr th:only-of-type {\n",
       "        vertical-align: middle;\n",
       "    }\n",
       "\n",
       "    .dataframe tbody tr th {\n",
       "        vertical-align: top;\n",
       "    }\n",
       "\n",
       "    .dataframe thead th {\n",
       "        text-align: right;\n",
       "    }\n",
       "</style>\n",
       "<table border=\"1\" class=\"dataframe\">\n",
       "  <thead>\n",
       "    <tr style=\"text-align: right;\">\n",
       "      <th></th>\n",
       "      <th>koi_disposition</th>\n",
       "      <th>koi_fpflag_nt</th>\n",
       "      <th>koi_fpflag_ss</th>\n",
       "      <th>koi_fpflag_co</th>\n",
       "      <th>koi_fpflag_ec</th>\n",
       "      <th>koi_period</th>\n",
       "      <th>koi_period_err1</th>\n",
       "      <th>koi_period_err2</th>\n",
       "      <th>koi_time0bk</th>\n",
       "      <th>koi_time0bk_err1</th>\n",
       "      <th>...</th>\n",
       "      <th>koi_steff_err2</th>\n",
       "      <th>koi_slogg</th>\n",
       "      <th>koi_slogg_err1</th>\n",
       "      <th>koi_slogg_err2</th>\n",
       "      <th>koi_srad</th>\n",
       "      <th>koi_srad_err1</th>\n",
       "      <th>koi_srad_err2</th>\n",
       "      <th>ra</th>\n",
       "      <th>dec</th>\n",
       "      <th>koi_kepmag</th>\n",
       "    </tr>\n",
       "  </thead>\n",
       "  <tbody>\n",
       "    <tr>\n",
       "      <th>0</th>\n",
       "      <td>CONFIRMED</td>\n",
       "      <td>0</td>\n",
       "      <td>0</td>\n",
       "      <td>0</td>\n",
       "      <td>0</td>\n",
       "      <td>54.418383</td>\n",
       "      <td>2.479000e-04</td>\n",
       "      <td>-2.479000e-04</td>\n",
       "      <td>162.513840</td>\n",
       "      <td>0.003520</td>\n",
       "      <td>...</td>\n",
       "      <td>-81</td>\n",
       "      <td>4.467</td>\n",
       "      <td>0.064</td>\n",
       "      <td>-0.096</td>\n",
       "      <td>0.927</td>\n",
       "      <td>0.105</td>\n",
       "      <td>-0.061</td>\n",
       "      <td>291.93423</td>\n",
       "      <td>48.141651</td>\n",
       "      <td>15.347</td>\n",
       "    </tr>\n",
       "    <tr>\n",
       "      <th>1</th>\n",
       "      <td>FALSE POSITIVE</td>\n",
       "      <td>0</td>\n",
       "      <td>1</td>\n",
       "      <td>0</td>\n",
       "      <td>0</td>\n",
       "      <td>19.899140</td>\n",
       "      <td>1.490000e-05</td>\n",
       "      <td>-1.490000e-05</td>\n",
       "      <td>175.850252</td>\n",
       "      <td>0.000581</td>\n",
       "      <td>...</td>\n",
       "      <td>-176</td>\n",
       "      <td>4.544</td>\n",
       "      <td>0.044</td>\n",
       "      <td>-0.176</td>\n",
       "      <td>0.868</td>\n",
       "      <td>0.233</td>\n",
       "      <td>-0.078</td>\n",
       "      <td>297.00482</td>\n",
       "      <td>48.134129</td>\n",
       "      <td>15.436</td>\n",
       "    </tr>\n",
       "    <tr>\n",
       "      <th>2</th>\n",
       "      <td>FALSE POSITIVE</td>\n",
       "      <td>0</td>\n",
       "      <td>1</td>\n",
       "      <td>0</td>\n",
       "      <td>0</td>\n",
       "      <td>1.736952</td>\n",
       "      <td>2.630000e-07</td>\n",
       "      <td>-2.630000e-07</td>\n",
       "      <td>170.307565</td>\n",
       "      <td>0.000115</td>\n",
       "      <td>...</td>\n",
       "      <td>-174</td>\n",
       "      <td>4.564</td>\n",
       "      <td>0.053</td>\n",
       "      <td>-0.168</td>\n",
       "      <td>0.791</td>\n",
       "      <td>0.201</td>\n",
       "      <td>-0.067</td>\n",
       "      <td>285.53461</td>\n",
       "      <td>48.285210</td>\n",
       "      <td>15.597</td>\n",
       "    </tr>\n",
       "    <tr>\n",
       "      <th>3</th>\n",
       "      <td>CONFIRMED</td>\n",
       "      <td>0</td>\n",
       "      <td>0</td>\n",
       "      <td>0</td>\n",
       "      <td>0</td>\n",
       "      <td>2.525592</td>\n",
       "      <td>3.760000e-06</td>\n",
       "      <td>-3.760000e-06</td>\n",
       "      <td>171.595550</td>\n",
       "      <td>0.001130</td>\n",
       "      <td>...</td>\n",
       "      <td>-211</td>\n",
       "      <td>4.438</td>\n",
       "      <td>0.070</td>\n",
       "      <td>-0.210</td>\n",
       "      <td>1.046</td>\n",
       "      <td>0.334</td>\n",
       "      <td>-0.133</td>\n",
       "      <td>288.75488</td>\n",
       "      <td>48.226200</td>\n",
       "      <td>15.509</td>\n",
       "    </tr>\n",
       "    <tr>\n",
       "      <th>4</th>\n",
       "      <td>CONFIRMED</td>\n",
       "      <td>0</td>\n",
       "      <td>0</td>\n",
       "      <td>0</td>\n",
       "      <td>0</td>\n",
       "      <td>4.134435</td>\n",
       "      <td>1.050000e-05</td>\n",
       "      <td>-1.050000e-05</td>\n",
       "      <td>172.979370</td>\n",
       "      <td>0.001900</td>\n",
       "      <td>...</td>\n",
       "      <td>-232</td>\n",
       "      <td>4.486</td>\n",
       "      <td>0.054</td>\n",
       "      <td>-0.229</td>\n",
       "      <td>0.972</td>\n",
       "      <td>0.315</td>\n",
       "      <td>-0.105</td>\n",
       "      <td>296.28613</td>\n",
       "      <td>48.224670</td>\n",
       "      <td>15.714</td>\n",
       "    </tr>\n",
       "  </tbody>\n",
       "</table>\n",
       "<p>5 rows × 41 columns</p>\n",
       "</div>"
      ],
      "text/plain": [
       "  koi_disposition  koi_fpflag_nt  koi_fpflag_ss  koi_fpflag_co  koi_fpflag_ec  \\\n",
       "0       CONFIRMED              0              0              0              0   \n",
       "1  FALSE POSITIVE              0              1              0              0   \n",
       "2  FALSE POSITIVE              0              1              0              0   \n",
       "3       CONFIRMED              0              0              0              0   \n",
       "4       CONFIRMED              0              0              0              0   \n",
       "\n",
       "   koi_period  koi_period_err1  koi_period_err2  koi_time0bk  \\\n",
       "0   54.418383     2.479000e-04    -2.479000e-04   162.513840   \n",
       "1   19.899140     1.490000e-05    -1.490000e-05   175.850252   \n",
       "2    1.736952     2.630000e-07    -2.630000e-07   170.307565   \n",
       "3    2.525592     3.760000e-06    -3.760000e-06   171.595550   \n",
       "4    4.134435     1.050000e-05    -1.050000e-05   172.979370   \n",
       "\n",
       "   koi_time0bk_err1  ...  koi_steff_err2  koi_slogg  koi_slogg_err1  \\\n",
       "0          0.003520  ...             -81      4.467           0.064   \n",
       "1          0.000581  ...            -176      4.544           0.044   \n",
       "2          0.000115  ...            -174      4.564           0.053   \n",
       "3          0.001130  ...            -211      4.438           0.070   \n",
       "4          0.001900  ...            -232      4.486           0.054   \n",
       "\n",
       "   koi_slogg_err2  koi_srad  koi_srad_err1  koi_srad_err2         ra  \\\n",
       "0          -0.096     0.927          0.105         -0.061  291.93423   \n",
       "1          -0.176     0.868          0.233         -0.078  297.00482   \n",
       "2          -0.168     0.791          0.201         -0.067  285.53461   \n",
       "3          -0.210     1.046          0.334         -0.133  288.75488   \n",
       "4          -0.229     0.972          0.315         -0.105  296.28613   \n",
       "\n",
       "         dec  koi_kepmag  \n",
       "0  48.141651      15.347  \n",
       "1  48.134129      15.436  \n",
       "2  48.285210      15.597  \n",
       "3  48.226200      15.509  \n",
       "4  48.224670      15.714  \n",
       "\n",
       "[5 rows x 41 columns]"
      ]
     },
     "execution_count": 4,
     "metadata": {},
     "output_type": "execute_result"
    }
   ],
   "source": [
    "df = pd.read_csv(\"exoplanet_data.csv\")\n",
    "# Drop the null columns where all values are null\n",
    "df = df.dropna(axis='columns', how='all')\n",
    "# Drop the null rows\n",
    "df = df.dropna()\n",
    "df.head()"
   ]
  },
  {
   "cell_type": "code",
   "execution_count": 5,
   "metadata": {},
   "outputs": [
    {
     "data": {
      "text/plain": [
       "Index(['koi_disposition', 'koi_fpflag_nt', 'koi_fpflag_ss', 'koi_fpflag_co',\n",
       "       'koi_fpflag_ec', 'koi_period', 'koi_period_err1', 'koi_period_err2',\n",
       "       'koi_time0bk', 'koi_time0bk_err1', 'koi_time0bk_err2', 'koi_impact',\n",
       "       'koi_impact_err1', 'koi_impact_err2', 'koi_duration',\n",
       "       'koi_duration_err1', 'koi_duration_err2', 'koi_depth', 'koi_depth_err1',\n",
       "       'koi_depth_err2', 'koi_prad', 'koi_prad_err1', 'koi_prad_err2',\n",
       "       'koi_teq', 'koi_insol', 'koi_insol_err1', 'koi_insol_err2',\n",
       "       'koi_model_snr', 'koi_tce_plnt_num', 'koi_steff', 'koi_steff_err1',\n",
       "       'koi_steff_err2', 'koi_slogg', 'koi_slogg_err1', 'koi_slogg_err2',\n",
       "       'koi_srad', 'koi_srad_err1', 'koi_srad_err2', 'ra', 'dec',\n",
       "       'koi_kepmag'],\n",
       "      dtype='object')"
      ]
     },
     "execution_count": 5,
     "metadata": {},
     "output_type": "execute_result"
    }
   ],
   "source": [
    "df.columns"
   ]
  },
  {
   "cell_type": "markdown",
   "metadata": {},
   "source": [
    "# Select your features (columns)"
   ]
  },
  {
   "cell_type": "code",
   "execution_count": 6,
   "metadata": {},
   "outputs": [],
   "source": [
    "# Set features. This will also be used as your x values.\n",
    "selected_features = df[['koi_period', 'koi_time0bk', 'koi_impact', 'koi_duration', 'koi_depth']]"
   ]
  },
  {
   "cell_type": "markdown",
   "metadata": {},
   "source": [
    "# Create a Train Test Split\n",
    "\n",
    "Use `koi_disposition` for the y values"
   ]
  },
  {
   "cell_type": "code",
   "execution_count": 7,
   "metadata": {},
   "outputs": [
    {
     "data": {
      "text/plain": [
       "array(['CONFIRMED', 'FALSE POSITIVE', 'CANDIDATE'], dtype=object)"
      ]
     },
     "execution_count": 7,
     "metadata": {},
     "output_type": "execute_result"
    }
   ],
   "source": [
    "target = df['koi_disposition']\n",
    "target.unique()"
   ]
  },
  {
   "cell_type": "code",
   "execution_count": 8,
   "metadata": {},
   "outputs": [
    {
     "data": {
      "text/plain": [
       "array([1, 2, 2, ..., 0, 2, 2])"
      ]
     },
     "execution_count": 8,
     "metadata": {},
     "output_type": "execute_result"
    }
   ],
   "source": [
    "from sklearn.preprocessing import LabelEncoder\n",
    "\n",
    "# Step 1: Label-encode data set\n",
    "label_encoder = LabelEncoder()\n",
    "label_encoder.fit(target)\n",
    "encoded_y = label_encoder.transform(target)\n",
    "encoded_y"
   ]
  },
  {
   "cell_type": "code",
   "execution_count": 9,
   "metadata": {},
   "outputs": [
    {
     "name": "stderr",
     "output_type": "stream",
     "text": [
      "Using TensorFlow backend.\n"
     ]
    },
    {
     "data": {
      "text/plain": [
       "array([[0., 1., 0.],\n",
       "       [0., 0., 1.],\n",
       "       [0., 0., 1.],\n",
       "       ...,\n",
       "       [1., 0., 0.],\n",
       "       [0., 0., 1.],\n",
       "       [0., 0., 1.]], dtype=float32)"
      ]
     },
     "execution_count": 9,
     "metadata": {},
     "output_type": "execute_result"
    }
   ],
   "source": [
    "from keras.utils import to_categorical\n",
    "\n",
    "# Step 2: One-hot encoding\n",
    "one_hot_y = to_categorical(encoded_y)\n",
    "one_hot_y"
   ]
  },
  {
   "cell_type": "code",
   "execution_count": 10,
   "metadata": {},
   "outputs": [],
   "source": [
    "from sklearn.model_selection import train_test_split\n",
    "X_train, X_test, y_train, y_test = train_test_split(selected_features, one_hot_y, random_state=99)"
   ]
  },
  {
   "cell_type": "code",
   "execution_count": 11,
   "metadata": {},
   "outputs": [
    {
     "data": {
      "text/html": [
       "<div>\n",
       "<style scoped>\n",
       "    .dataframe tbody tr th:only-of-type {\n",
       "        vertical-align: middle;\n",
       "    }\n",
       "\n",
       "    .dataframe tbody tr th {\n",
       "        vertical-align: top;\n",
       "    }\n",
       "\n",
       "    .dataframe thead th {\n",
       "        text-align: right;\n",
       "    }\n",
       "</style>\n",
       "<table border=\"1\" class=\"dataframe\">\n",
       "  <thead>\n",
       "    <tr style=\"text-align: right;\">\n",
       "      <th></th>\n",
       "      <th>koi_period</th>\n",
       "      <th>koi_time0bk</th>\n",
       "      <th>koi_impact</th>\n",
       "      <th>koi_duration</th>\n",
       "      <th>koi_depth</th>\n",
       "    </tr>\n",
       "  </thead>\n",
       "  <tbody>\n",
       "    <tr>\n",
       "      <th>5136</th>\n",
       "      <td>94.381630</td>\n",
       "      <td>171.336200</td>\n",
       "      <td>0.5930</td>\n",
       "      <td>11.87000</td>\n",
       "      <td>91.2</td>\n",
       "    </tr>\n",
       "    <tr>\n",
       "      <th>6214</th>\n",
       "      <td>24.238242</td>\n",
       "      <td>136.616569</td>\n",
       "      <td>0.4260</td>\n",
       "      <td>4.16665</td>\n",
       "      <td>461960.0</td>\n",
       "    </tr>\n",
       "    <tr>\n",
       "      <th>5863</th>\n",
       "      <td>2.705816</td>\n",
       "      <td>132.537260</td>\n",
       "      <td>0.6199</td>\n",
       "      <td>6.56000</td>\n",
       "      <td>46.9</td>\n",
       "    </tr>\n",
       "    <tr>\n",
       "      <th>2100</th>\n",
       "      <td>8.589696</td>\n",
       "      <td>174.962500</td>\n",
       "      <td>1.1970</td>\n",
       "      <td>8.47100</td>\n",
       "      <td>245.1</td>\n",
       "    </tr>\n",
       "    <tr>\n",
       "      <th>3977</th>\n",
       "      <td>2.401752</td>\n",
       "      <td>133.711919</td>\n",
       "      <td>5.2500</td>\n",
       "      <td>2.08350</td>\n",
       "      <td>25044.0</td>\n",
       "    </tr>\n",
       "  </tbody>\n",
       "</table>\n",
       "</div>"
      ],
      "text/plain": [
       "      koi_period  koi_time0bk  koi_impact  koi_duration  koi_depth\n",
       "5136   94.381630   171.336200      0.5930      11.87000       91.2\n",
       "6214   24.238242   136.616569      0.4260       4.16665   461960.0\n",
       "5863    2.705816   132.537260      0.6199       6.56000       46.9\n",
       "2100    8.589696   174.962500      1.1970       8.47100      245.1\n",
       "3977    2.401752   133.711919      5.2500       2.08350    25044.0"
      ]
     },
     "execution_count": 11,
     "metadata": {},
     "output_type": "execute_result"
    }
   ],
   "source": [
    "X_train.head()"
   ]
  },
  {
   "cell_type": "markdown",
   "metadata": {},
   "source": [
    "# Pre-processing\n",
    "\n",
    "Scale the data using the MinMaxScaler and perform some feature selection"
   ]
  },
  {
   "cell_type": "code",
   "execution_count": 12,
   "metadata": {},
   "outputs": [],
   "source": [
    "# Scale your data\n",
    "from sklearn.preprocessing import MinMaxScaler\n",
    "X_minmax = MinMaxScaler().fit(X_train)\n",
    "y_minmax = MinMaxScaler().fit(y_train)\n",
    "\n",
    "X_train_minmax = X_minmax.transform(X_train)\n",
    "X_test_minmax = X_minmax.transform(X_test)\n",
    "y_train_minmax = y_minmax.transform(y_train)\n",
    "y_test_minmax = y_minmax.transform(y_test)"
   ]
  },
  {
   "cell_type": "markdown",
   "metadata": {},
   "source": [
    "# Train the Model\n",
    "\n"
   ]
  },
  {
   "cell_type": "code",
   "execution_count": 21,
   "metadata": {},
   "outputs": [
    {
     "name": "stdout",
     "output_type": "stream",
     "text": [
      "k: 1, Train/Test Score: 1.000/0.597, difference =  0.403\n",
      "k: 3, Train/Test Score: 0.744/0.595, difference =  0.149\n",
      "k: 5, Train/Test Score: 0.677/0.578, difference =  0.098\n",
      "k: 7, Train/Test Score: 0.644/0.572, difference =  0.072\n",
      "k: 9, Train/Test Score: 0.622/0.565, difference =  0.057\n",
      "k: 11, Train/Test Score: 0.606/0.564, difference =  0.042\n",
      "k: 13, Train/Test Score: 0.595/0.554, difference =  0.040\n",
      "k: 15, Train/Test Score: 0.578/0.542, difference =  0.036\n",
      "k: 17, Train/Test Score: 0.569/0.536, difference =  0.033\n",
      "k: 19, Train/Test Score: 0.561/0.535, difference =  0.025\n",
      "k: 21, Train/Test Score: 0.554/0.529, difference =  0.025\n",
      "k: 23, Train/Test Score: 0.548/0.530, difference =  0.019\n",
      "k: 25, Train/Test Score: 0.541/0.517, difference =  0.025\n"
     ]
    },
    {
     "data": {
      "image/png": "[encoded data removed]",
      "text/plain": [
       "<Figure size 432x288 with 1 Axes>"
      ]
     },
     "metadata": {
      "needs_background": "light"
     },
     "output_type": "display_data"
    }
   ],
   "source": [
    "from sklearn.neighbors import KNeighborsClassifier\n",
    "import matplotlib.pyplot as plt\n",
    "train_scores = []\n",
    "test_scores = []\n",
    "for k in range(1, 26, 2):\n",
    "    knn = KNeighborsClassifier(n_neighbors=k)\n",
    "    knn.fit(X_train_minmax, y_train_minmax)\n",
    "    train_score = knn.score(X_train_minmax, y_train_minmax)\n",
    "    test_score = knn.score(X_test_minmax, y_test_minmax)\n",
    "    train_scores.append(train_score)\n",
    "    test_scores.append(test_score)\n",
    "    print(f\"k: {k}, Train/Test Score: {train_score:.3f}/{test_score:.3f}, difference = {train_score-test_score: .3f}\")\n",
    "    \n",
    "    \n",
    "plt.plot(range(1, 26, 2), train_scores, marker='o')\n",
    "plt.plot(range(1, 26, 2), test_scores, marker=\"x\")\n",
    "plt.xlabel(\"k neighbors\")\n",
    "plt.ylabel(\"Testing accuracy Score\")\n",
    "plt.show()"
   ]
  },
  {
   "cell_type": "code",
   "execution_count": 22,
   "metadata": {},
   "outputs": [
    {
     "name": "stdout",
     "output_type": "stream",
     "text": [
      "k=19 Test Acc: 0.535\n",
      "Training Data Score: 0.5605569330535952\n",
      "Testing Data Score: 0.5354691075514875\n"
     ]
    }
   ],
   "source": [
    "knn = KNeighborsClassifier(n_neighbors=19)\n",
    "knn.fit(X_train_minmax, y_train_minmax)\n",
    "print('k=19 Test Acc: %.3f' % knn.score(X_test_minmax, y_test_minmax))\n",
    "\n",
    "print(f\"Training Data Score: {knn.score(X_train_minmax, y_train_minmax)}\")\n",
    "print(f\"Testing Data Score: {knn.score(X_test_minmax, y_test_minmax)}\")"
   ]
  },
  {
   "cell_type": "markdown",
   "metadata": {},
   "source": [
    "# Hyperparameter Tuning\n",
    "\n",
    "Use `GridSearchCV` to tune the model's parameters"
   ]
  },
  {
   "cell_type": "code",
   "execution_count": 23,
   "metadata": {},
   "outputs": [
    {
     "data": {
      "text/plain": [
       "KNeighborsClassifier(algorithm='auto', leaf_size=30, metric='minkowski',\n",
       "                     metric_params=None, n_jobs=None, n_neighbors=19, p=2,\n",
       "                     weights='uniform')"
      ]
     },
     "execution_count": 23,
     "metadata": {},
     "output_type": "execute_result"
    }
   ],
   "source": [
    "knn"
   ]
  },
  {
   "cell_type": "code",
   "execution_count": 24,
   "metadata": {},
   "outputs": [],
   "source": [
    "# Create the GridSearchCV model\n",
    "from sklearn.model_selection import GridSearchCV\n",
    "param_grid = {'leaf_size': [10, 30, 50],\n",
    "             'p': [1,2,3]}\n",
    "grid = GridSearchCV(knn, param_grid, verbose=3)"
   ]
  },
  {
   "cell_type": "code",
   "execution_count": 25,
   "metadata": {},
   "outputs": [
    {
     "name": "stdout",
     "output_type": "stream",
     "text": [
      "Fitting 5 folds for each of 9 candidates, totalling 45 fits\n",
      "[CV] leaf_size=10, p=1 ...............................................\n",
      "[CV] ................... leaf_size=10, p=1, score=0.526, total=   0.1s\n",
      "[CV] leaf_size=10, p=1 ...............................................\n"
     ]
    },
    {
     "name": "stderr",
     "output_type": "stream",
     "text": [
      "[Parallel(n_jobs=1)]: Using backend SequentialBackend with 1 concurrent workers.\n",
      "[Parallel(n_jobs=1)]: Done   1 out of   1 | elapsed:    0.1s remaining:    0.0s\n"
     ]
    },
    {
     "name": "stdout",
     "output_type": "stream",
     "text": [
      "[CV] ................... leaf_size=10, p=1, score=0.504, total=   0.2s\n",
      "[CV] leaf_size=10, p=1 ...............................................\n",
      "[CV] ................... leaf_size=10, p=1, score=0.530, total=   0.1s\n",
      "[CV] leaf_size=10, p=1 ...............................................\n"
     ]
    },
    {
     "name": "stderr",
     "output_type": "stream",
     "text": [
      "[Parallel(n_jobs=1)]: Done   2 out of   2 | elapsed:    0.2s remaining:    0.0s\n"
     ]
    },
    {
     "name": "stdout",
     "output_type": "stream",
     "text": [
      "[CV] ................... leaf_size=10, p=1, score=0.521, total=   0.1s\n",
      "[CV] leaf_size=10, p=1 ...............................................\n",
      "[CV] ................... leaf_size=10, p=1, score=0.534, total=   0.2s\n",
      "[CV] leaf_size=10, p=2 ...............................................\n",
      "[CV] ................... leaf_size=10, p=2, score=0.517, total=   0.2s\n",
      "[CV] leaf_size=10, p=2 ...............................................\n",
      "[CV] ................... leaf_size=10, p=2, score=0.499, total=   0.2s\n",
      "[CV] leaf_size=10, p=2 ...............................................\n",
      "[CV] ................... leaf_size=10, p=2, score=0.528, total=   0.2s\n",
      "[CV] leaf_size=10, p=2 ...............................................\n",
      "[CV] ................... leaf_size=10, p=2, score=0.520, total=   0.2s\n",
      "[CV] leaf_size=10, p=2 ...............................................\n",
      "[CV] ................... leaf_size=10, p=2, score=0.531, total=   0.2s\n",
      "[CV] leaf_size=10, p=3 ...............................................\n",
      "[CV] ................... leaf_size=10, p=3, score=0.514, total=   0.2s\n",
      "[CV] leaf_size=10, p=3 ...............................................\n",
      "[CV] ................... leaf_size=10, p=3, score=0.501, total=   0.2s\n",
      "[CV] leaf_size=10, p=3 ...............................................\n",
      "[CV] ................... leaf_size=10, p=3, score=0.521, total=   0.2s\n",
      "[CV] leaf_size=10, p=3 ...............................................\n",
      "[CV] ................... leaf_size=10, p=3, score=0.508, total=   0.2s\n",
      "[CV] leaf_size=10, p=3 ...............................................\n",
      "[CV] ................... leaf_size=10, p=3, score=0.520, total=   0.3s\n",
      "[CV] leaf_size=30, p=1 ...............................................\n",
      "[CV] ................... leaf_size=30, p=1, score=0.526, total=   0.1s\n",
      "[CV] leaf_size=30, p=1 ...............................................\n",
      "[CV] ................... leaf_size=30, p=1, score=0.504, total=   0.2s\n",
      "[CV] leaf_size=30, p=1 ...............................................\n",
      "[CV] ................... leaf_size=30, p=1, score=0.530, total=   0.1s\n",
      "[CV] leaf_size=30, p=1 ...............................................\n",
      "[CV] ................... leaf_size=30, p=1, score=0.521, total=   0.2s\n",
      "[CV] leaf_size=30, p=1 ...............................................\n",
      "[CV] ................... leaf_size=30, p=1, score=0.534, total=   0.2s\n",
      "[CV] leaf_size=30, p=2 ...............................................\n",
      "[CV] ................... leaf_size=30, p=2, score=0.517, total=   0.1s\n",
      "[CV] leaf_size=30, p=2 ...............................................\n",
      "[CV] ................... leaf_size=30, p=2, score=0.499, total=   0.1s\n",
      "[CV] leaf_size=30, p=2 ...............................................\n",
      "[CV] ................... leaf_size=30, p=2, score=0.528, total=   0.1s\n",
      "[CV] leaf_size=30, p=2 ...............................................\n",
      "[CV] ................... leaf_size=30, p=2, score=0.520, total=   0.1s\n",
      "[CV] leaf_size=30, p=2 ...............................................\n",
      "[CV] ................... leaf_size=30, p=2, score=0.531, total=   0.2s\n",
      "[CV] leaf_size=30, p=3 ...............................................\n",
      "[CV] ................... leaf_size=30, p=3, score=0.514, total=   0.3s\n",
      "[CV] leaf_size=30, p=3 ...............................................\n",
      "[CV] ................... leaf_size=30, p=3, score=0.501, total=   0.3s\n",
      "[CV] leaf_size=30, p=3 ...............................................\n",
      "[CV] ................... leaf_size=30, p=3, score=0.521, total=   0.3s\n",
      "[CV] leaf_size=30, p=3 ...............................................\n",
      "[CV] ................... leaf_size=30, p=3, score=0.508, total=   0.3s\n",
      "[CV] leaf_size=30, p=3 ...............................................\n",
      "[CV] ................... leaf_size=30, p=3, score=0.520, total=   0.3s\n",
      "[CV] leaf_size=50, p=1 ...............................................\n",
      "[CV] ................... leaf_size=50, p=1, score=0.526, total=   0.1s\n",
      "[CV] leaf_size=50, p=1 ...............................................\n",
      "[CV] ................... leaf_size=50, p=1, score=0.504, total=   0.2s\n",
      "[CV] leaf_size=50, p=1 ...............................................\n",
      "[CV] ................... leaf_size=50, p=1, score=0.530, total=   0.1s\n",
      "[CV] leaf_size=50, p=1 ...............................................\n",
      "[CV] ................... leaf_size=50, p=1, score=0.521, total=   0.2s\n",
      "[CV] leaf_size=50, p=1 ...............................................\n",
      "[CV] ................... leaf_size=50, p=1, score=0.534, total=   0.1s\n",
      "[CV] leaf_size=50, p=2 ...............................................\n",
      "[CV] ................... leaf_size=50, p=2, score=0.517, total=   0.2s\n",
      "[CV] leaf_size=50, p=2 ...............................................\n",
      "[CV] ................... leaf_size=50, p=2, score=0.499, total=   0.2s\n",
      "[CV] leaf_size=50, p=2 ...............................................\n",
      "[CV] ................... leaf_size=50, p=2, score=0.528, total=   0.2s\n",
      "[CV] leaf_size=50, p=2 ...............................................\n",
      "[CV] ................... leaf_size=50, p=2, score=0.520, total=   0.2s\n",
      "[CV] leaf_size=50, p=2 ...............................................\n",
      "[CV] ................... leaf_size=50, p=2, score=0.531, total=   0.2s\n",
      "[CV] leaf_size=50, p=3 ...............................................\n",
      "[CV] ................... leaf_size=50, p=3, score=0.514, total=   0.4s\n",
      "[CV] leaf_size=50, p=3 ...............................................\n",
      "[CV] ................... leaf_size=50, p=3, score=0.501, total=   0.4s\n",
      "[CV] leaf_size=50, p=3 ...............................................\n",
      "[CV] ................... leaf_size=50, p=3, score=0.521, total=   0.4s\n",
      "[CV] leaf_size=50, p=3 ...............................................\n",
      "[CV] ................... leaf_size=50, p=3, score=0.508, total=   0.4s\n",
      "[CV] leaf_size=50, p=3 ...............................................\n",
      "[CV] ................... leaf_size=50, p=3, score=0.520, total=   0.4s\n"
     ]
    },
    {
     "name": "stderr",
     "output_type": "stream",
     "text": [
      "[Parallel(n_jobs=1)]: Done  45 out of  45 | elapsed:    9.3s finished\n"
     ]
    },
    {
     "data": {
      "text/plain": [
       "GridSearchCV(cv=None, error_score=nan,\n",
       "             estimator=KNeighborsClassifier(algorithm='auto', leaf_size=30,\n",
       "                                            metric='minkowski',\n",
       "                                            metric_params=None, n_jobs=None,\n",
       "                                            n_neighbors=19, p=2,\n",
       "                                            weights='uniform'),\n",
       "             iid='deprecated', n_jobs=None,\n",
       "             param_grid={'leaf_size': [10, 30, 50], 'p': [1, 2, 3]},\n",
       "             pre_dispatch='2*n_jobs', refit=True, return_train_score=False,\n",
       "             scoring=None, verbose=3)"
      ]
     },
     "execution_count": 25,
     "metadata": {},
     "output_type": "execute_result"
    }
   ],
   "source": [
    "# Train the model with GridSearch\n",
    "grid.fit(X_train_minmax, y_train_minmax)"
   ]
  },
  {
   "cell_type": "code",
   "execution_count": 26,
   "metadata": {},
   "outputs": [
    {
     "name": "stdout",
     "output_type": "stream",
     "text": [
      "{'leaf_size': 10, 'p': 1}\n",
      "0.5231754706408867\n"
     ]
    }
   ],
   "source": [
    "print(grid.best_params_)\n",
    "print(grid.best_score_)"
   ]
  },
  {
   "cell_type": "markdown",
   "metadata": {},
   "source": [
    "# Save the Model"
   ]
  },
  {
   "cell_type": "code",
   "execution_count": null,
   "metadata": {},
   "outputs": [],
   "source": [
    "# save your model by updating \"your_name\" with your name\n",
    "# and \"your_model\" with your model variable\n",
    "# be sure to turn this in to BCS\n",
    "# if joblib fails to import, try running the command to install in terminal/git-bash\n",
    "import joblib\n",
    "filename = 'andy_spatz.sav'\n",
    "knn_model = grid\n",
    "joblib.dump(knn_model, filename)"
   ]
  }
 ],
 "metadata": {
  "kernel_info": {
   "name": "dev"
  },
  "kernelspec": {
   "display_name": "Python [conda env:PythonData]",
   "language": "python",
   "name": "conda-env-PythonData-py"
  },
  "language_info": {
   "codemirror_mode": {
    "name": "ipython",
    "version": 3
   },
   "file_extension": ".py",
   "mimetype": "text/x-python",
   "name": "python",
   "nbconvert_exporter": "python",
   "pygments_lexer": "ipython3",
   "version": "3.6.9"
  },
  "nteract": {
   "version": "0.12.3"
  }
 },
 "nbformat": 4,
 "nbformat_minor": 2
}
